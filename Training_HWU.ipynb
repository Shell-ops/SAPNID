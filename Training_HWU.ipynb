{
 "cells": [
  {
   "cell_type": "code",
   "execution_count": 1,
   "id": "77f7259b",
   "metadata": {},
   "outputs": [
    {
     "name": "stderr",
     "output_type": "stream",
     "text": [
      "2023-05-16 06:51:30.840011: I tensorflow/core/platform/cpu_feature_guard.cc:193] This TensorFlow binary is optimized with oneAPI Deep Neural Network Library (oneDNN) to use the following CPU instructions in performance-critical operations:  AVX2 AVX512F FMA\n",
      "To enable them in other operations, rebuild TensorFlow with the appropriate compiler flags.\n"
     ]
    }
   ],
   "source": [
    "import os\n",
    "import numpy as np\n",
    "from transformers.models.roberta.tokenization_roberta import RobertaTokenizer\n",
    "from transformers.optimization import AdamW\n",
    "from transformers.models.roberta.modeling_roberta import RobertaModel\n",
    "\n",
    "import torch\n",
    "import torch.nn as nn\n",
    "import random\n",
    "from torch.nn import functional as F\n",
    "\n",
    "from sklearn.metrics import accuracy_score\n",
    "from sklearn.metrics import f1_score"
   ]
  },
  {
   "cell_type": "markdown",
   "id": "779e9c77",
   "metadata": {},
   "source": [
    "### 加载数据"
   ]
  },
  {
   "cell_type": "code",
   "execution_count": 2,
   "id": "43a2abf3",
   "metadata": {},
   "outputs": [
    {
     "name": "stdout",
     "output_type": "stream",
     "text": [
      "32\n"
     ]
    }
   ],
   "source": [
    "Cbase_pretrain_path = '../EMNLP2023/Dataset/Processed/HWU/Pretrain.txt'\n",
    "Cbase_x = []\n",
    "Cbase_y = []\n",
    "for line in open(Cbase_pretrain_path):\n",
    "    if len(line.split('\\t')) != 2:\n",
    "        continue\n",
    "    else:\n",
    "        Cbase_y.append(line.split('\\t')[1][:-1].replace('_',' '))\n",
    "        Cbase_x.append(line.split('\\t')[0])\n",
    "\n",
    "label_yd_yi_dic = {'play podcasts': '0', 'alarm set': '1', 'takeaway query': '2', 'social post': '3', 'email querycontact': '4', 'iot wemo off': '5', 'iot hue lightup': '6', 'general affirm': '7', 'calendar set': '8', 'general negate': '9', 'iot coffee': '10', 'news query': '11', 'recommendation events': '12', 'play audiobook': '13', 'play radio': '14', 'alarm remove': '15', 'iot hue lightdim': '16', 'datetime query': '17', 'recommendation movies': '18', 'social query': '19', 'play game': '20', 'datetime convert': '21', 'iot hue lightoff': '22', 'music likeness': '23', 'email sendemail': '24', 'general quirky': '25', 'weather query': '26', 'transport taxi': '27', 'lists query': '28', 'qa factoid': '29', 'transport traffic': '30', 'general joke': '31'}\n",
    "\n",
    "print(len(set(Cbase_y)))"
   ]
  },
  {
   "cell_type": "code",
   "execution_count": 3,
   "id": "9c76b846",
   "metadata": {},
   "outputs": [],
   "source": [
    "# 1 model initialization\n",
    "# encoder\n",
    "max_length = 32\n",
    "n_tokens = 5\n",
    "hidden_size = 1024\n",
    "\n",
    "# 2 hyper-parameters initialization\n",
    "batch_size = 10\n",
    "cluster_nums = len(list(set(Cbase_y)))\n",
    "cluster_nums_str = str(cluster_nums)\n",
    "\n",
    "# 3 training parameters\n",
    "base_lr = 5e-6\n",
    "lr_scale = 100"
   ]
  },
  {
   "cell_type": "code",
   "execution_count": 4,
   "id": "ae573c3c",
   "metadata": {},
   "outputs": [
    {
     "name": "stdout",
     "output_type": "stream",
     "text": [
      "205\n",
      "205\n",
      "205\n",
      "33\n"
     ]
    }
   ],
   "source": [
    "Cn_path = '../EMNLP2023/Dataset/Processed/HWU/Aux1PMulti.txt'\n",
    "Cn = []\n",
    "for line in open(Cn_path):\n",
    "    Cn.append(line)\n",
    "random.shuffle(Cn)\n",
    "\n",
    "Cn_x = []\n",
    "Cn_y = []\n",
    "for line in Cn:\n",
    "    Cn_y.append(line.split('\\t')[1][:-1].replace('_',' '))\n",
    "    Cn_x.append(line.split('\\t')[0])\n",
    "print(len(Cn_x))\n",
    "print(len(Cn_y))\n",
    "\n",
    "pre_yd_list = label_yd_yi_dic.keys()\n",
    "pre_yd_yi_dic = label_yd_yi_dic\n",
    "\n",
    "Cn_y_id = []\n",
    "for i in range(len(Cn_y)):\n",
    "    if Cn_y[i] in pre_yd_list:\n",
    "        Cn_y_id.append(pre_yd_yi_dic[Cn_y[i]])\n",
    "    else:\n",
    "        Cn_y_id.append(cluster_nums_str)\n",
    "print(len(Cn_y_id))\n",
    "print(len(set(Cn_y_id)))"
   ]
  },
  {
   "cell_type": "code",
   "execution_count": 5,
   "id": "5454576c",
   "metadata": {},
   "outputs": [],
   "source": [
    "###### \n",
    "from torch.utils.data import Dataset\n",
    "import torch.utils.data as util_data\n",
    "\n",
    "class AugmentPairSamples(Dataset):\n",
    "    def __init__(self, train_x, train_y):\n",
    "        assert len(train_y) == len(train_x)\n",
    "        self.train_x = train_x\n",
    "        self.train_y = train_y\n",
    "        \n",
    "    def __len__(self):\n",
    "        return len(self.train_y)\n",
    "\n",
    "    def __getitem__(self, idx):\n",
    "        return {'text': self.train_x[idx], 'label': self.train_y[idx]}\n",
    "\n",
    "train_dataset = AugmentPairSamples(Cn_x[:200], Cn_y_id[:200])\n",
    "train_loader = util_data.DataLoader(train_dataset, batch_size=batch_size, shuffle=False, num_workers=1)"
   ]
  },
  {
   "cell_type": "markdown",
   "id": "c54a64f5",
   "metadata": {},
   "source": [
    "### 加载 Pretrained Model"
   ]
  },
  {
   "cell_type": "code",
   "execution_count": 6,
   "id": "d3634e44",
   "metadata": {},
   "outputs": [],
   "source": [
    "import os\n",
    "os.environ['CUDA_VISIBLE_DEVICES']=\"0,1,2,3\"\n",
    "device = \"cuda:3\" if torch.cuda.is_available() else \"cpu\""
   ]
  },
  {
   "cell_type": "code",
   "execution_count": 7,
   "id": "d00ead86",
   "metadata": {},
   "outputs": [],
   "source": [
    "class PREModel(nn.Module):\n",
    "    def __init__(self, pre_tokenizer, pre_model, device=device, training_flag=True):\n",
    "        \n",
    "        super(PREModel, self).__init__()\n",
    "        self.device = device\n",
    "        self.classifier_loss1 = nn.BCELoss()\n",
    "        self.classifier_loss2 = nn.CrossEntropyLoss()\n",
    "        self.training_flag = training_flag\n",
    "        self.optimizer = None\n",
    "        \n",
    "        ###### SentenceBert Model ###### \n",
    "        self.tokenizer = pre_tokenizer\n",
    "        self.sentbert = pre_model.roberta_single\n",
    "        \n",
    "        ####### Classifer Model ######  \n",
    "        self.classifer = nn.Sequential(\n",
    "            nn.Dropout(0.1),\n",
    "            nn.Linear(1024, 512),\n",
    "            nn.Tanh(),\n",
    "            nn.Dropout(0.1),\n",
    "            nn.Linear(512, 1)).to(self.device)\n",
    "        \n",
    "    ###### SentenceBert Model ###### \n",
    "    def get_embeddings(self, features, pooling=\"mean\"):\n",
    "        bert_output =  self.sentbert.forward(**features)\n",
    "        attention_mask = features['attention_mask'].unsqueeze(-1).to(device)\n",
    "        all_output = bert_output[0]\n",
    "        mean_output =  torch.sum(all_output*attention_mask, dim=1) / torch.sum(attention_mask, dim=1)\n",
    "        return mean_output\n",
    "\n",
    "    def set_optmizer(self, opt):\n",
    "        self.optimizer = opt\n",
    "        \n",
    "    def forward(self, inputs, labels, aggregate=True):\n",
    "        for s_idx in range(len(labels)): #10\n",
    "            h0 = self.get_embeddings(inputs[s_idx], pooling=\"mean\").to(self.device) #[20,1024]\n",
    "            y_vector = torch.tensor([0.]*h0.shape[0]).to(self.device) #[20]\n",
    "            y_idx = int(labels[s_idx])\n",
    "            y_onehot = y_vector.clone()\n",
    "            y_onehot[y_idx] = 1.\n",
    "            \n",
    "            if s_idx == 0:\n",
    "                classifier_out = self.classifer(h0).squeeze().unsqueeze(0) #[1,20]\n",
    "                y_onehot_all = y_onehot.unsqueeze(0)\n",
    "            else:\n",
    "                classifier_out = torch.cat([classifier_out,self.classifer(h0).squeeze().unsqueeze(0)],dim=0) #[10,20]\n",
    "                y_onehot_all = torch.cat([y_onehot_all,y_onehot.unsqueeze(0)],dim=0)\n",
    "\n",
    "        classifier_output = classifier_out\n",
    "        classifier_sigmode_vector = F.sigmoid(classifier_output)\n",
    "        classifier_softmax_vector = F.softmax(classifier_output,dim=1)\n",
    "        cluster_result = [str(torch.argmax(classifier_softmax_vector[i]).item()) for i in range(classifier_softmax_vector.shape[0])]\n",
    "            \n",
    "        class_loss_all = torch.tensor(0.0).to(device)\n",
    "        ### 获得 Loss\n",
    "        class_loss_s = 0.\n",
    "        class_loss_s1 = self.classifier_loss1(classifier_sigmode_vector,y_onehot_all)\n",
    "        class_loss_s2 = self.classifier_loss2(classifier_softmax_vector,y_onehot_all)\n",
    "        class_loss_all += class_loss_s1 + class_loss_s2\n",
    "        class_loss = torch.div(class_loss_all,h0.shape[0])\n",
    "        \n",
    "        print(\"cluster_output:\",cluster_result)\n",
    "        print(\"labels:\",labels)\n",
    "        print(\"ACC_train:\",accuracy_score(labels,cluster_result))\n",
    "        \n",
    "        if self.training_flag:\n",
    "            loss = class_loss\n",
    "            ##  反向传播\n",
    "            self.optimizer.zero_grad()\n",
    "            loss.backward()\n",
    "            self.optimizer.step()\n",
    "            \n",
    "        return class_loss.detach(), class_loss_s1.detach(), class_loss_s2.detach(), labels, cluster_result\n",
    "    "
   ]
  },
  {
   "cell_type": "code",
   "execution_count": 8,
   "id": "17cb714b",
   "metadata": {},
   "outputs": [],
   "source": [
    "ckpt = '../EMNLP2023/Result/PreModel_HWU.pt'\n",
    "pre_model = torch.load(ckpt).to(device)"
   ]
  },
  {
   "cell_type": "markdown",
   "id": "0b0dcb89",
   "metadata": {},
   "source": [
    "### 搭建模型"
   ]
  },
  {
   "cell_type": "code",
   "execution_count": 9,
   "id": "f4ad67c0",
   "metadata": {},
   "outputs": [],
   "source": [
    "class TRAINModel(nn.Module):\n",
    "    def __init__(self, pre_tokenizer, pre_encoder, pre_classifer, device=device, training_flag=True):\n",
    "        \n",
    "        super(TRAINModel, self).__init__()\n",
    "        self.device = device\n",
    "        self.classifier_loss1 = nn.BCELoss()\n",
    "        self.classifier_loss2 = nn.CrossEntropyLoss()\n",
    "        self.training_flag = training_flag\n",
    "        self.optimizer = None\n",
    "        \n",
    "        ###### SentenceBert Model ###### \n",
    "        self.tokenizer = pre_tokenizer\n",
    "        self.sentbert = pre_encoder\n",
    "        \n",
    "        ####### Classifer Model ######  \n",
    "        self.classifer = pre_classifer\n",
    "        \n",
    "    ###### SentenceBert Model ###### \n",
    "    def get_embeddings(self, features, pooling=\"mean\"):\n",
    "        bert_output =  self.sentbert.forward(**features)\n",
    "        attention_mask = features['attention_mask'].unsqueeze(-1).to(device)\n",
    "        all_output = bert_output[0]\n",
    "        mean_output =  torch.sum(all_output*attention_mask, dim=1) / torch.sum(attention_mask, dim=1)\n",
    "        return mean_output\n",
    "    \n",
    "    def get_none_embeddings(self, input_t, input_none, pooling=\"mean\"):\n",
    "        x_embed = self.sentbert.embeddings.word_embeddings(input_t['input_ids']) #[10,19,1024]\n",
    "        x_embed_cls = self.sentbert.embeddings.word_embeddings(input_t['input_ids'])[:,0,:].unsqueeze(1) #[10,1,1024]\n",
    "        none_embeddings_inital = self.sentbert.forward(**input_none).last_hidden_state \n",
    "        soft_text_prompt = nn.Embedding(n_tokens, hidden_size)\n",
    "        soft_text_prompt.weight = nn.parameter.Parameter(none_embeddings_inital) #[1,5,1024]\n",
    "        return x_embed_cls, x_embed, soft_text_prompt.weight\n",
    "\n",
    "    def set_optmizer(self, opt):\n",
    "        self.optimizer = opt\n",
    "        \n",
    "    def forward(self, inputs, inputs_text, inputs_none, labels, aggregate=True):\n",
    "        for s_idx in range(len(labels)): #10\n",
    "            h0 = self.get_embeddings(inputs[s_idx], pooling=\"mean\").to(self.device) #[20,1024]\n",
    "            \n",
    "            y_vector = torch.tensor([0.]*(h0.shape[0]+1)).to(self.device) #[20]\n",
    "            y_idx = int(labels[s_idx])\n",
    "            y_onehot = y_vector.clone()\n",
    "            y_onehot[y_idx] = 1.\n",
    "            \n",
    "            if s_idx == 0:\n",
    "                classifier_out = self.classifer(h0).squeeze().unsqueeze(0) #[1,20]\n",
    "                y_onehot_all = y_onehot.unsqueeze(0)\n",
    "            else:\n",
    "                classifier_out = torch.cat([classifier_out,self.classifer(h0).squeeze().unsqueeze(0)],dim=0) #[10,20]\n",
    "                y_onehot_all = torch.cat([y_onehot_all,y_onehot.unsqueeze(0)],dim=0)\n",
    "        print('y_onehot_all:',y_onehot_all.shape)\n",
    "        print('classifier_out:',classifier_out.shape)\n",
    "                \n",
    "        x_embed_cls, x_embed, soft_text_prompt_weight = self.get_none_embeddings(inputs_text.to(self.device),inputs_none.to(self.device))\n",
    "        x_attmask = inputs_text['attention_mask'] #[10, 19]\n",
    "        x_ones = torch.ones([batch_size,n_tokens]).to(device) #[10, 5]\n",
    "        none_attmask = torch.cat([x_ones,x_attmask],dim=1).to(device)\n",
    "\n",
    "        none_embedding = soft_text_prompt_weight.repeat(batch_size,1,1) + x_embed_cls.repeat(1,n_tokens,1)\n",
    "        none_encoderinput = torch.cat([none_embedding,x_embed],dim=1)\n",
    "\n",
    "        text_input = {\n",
    "            'inputs_embeds': none_encoderinput,\n",
    "            'attention_mask': none_attmask.to(device)\n",
    "        }\n",
    "        \n",
    "        h0_none = self.sentbert.forward(**text_input).pooler_output #[10,24,1024]\n",
    "        print('h0_none:',h0_none.shape)\n",
    "        classifier_out_none = self.classifer(h0_none)\n",
    "        classifier_output = torch.cat([classifier_out,classifier_out_none],dim=1)\n",
    "        print('classifier_output:',classifier_output.shape)\n",
    "        classifier_sigmode_vector = F.sigmoid(classifier_output)\n",
    "        classifier_softmax_vector = F.softmax(classifier_output,dim=1)\n",
    "        cluster_result = [str(torch.argmax(classifier_softmax_vector[i]).item()) for i in range(classifier_softmax_vector.shape[0])]\n",
    "        class_loss_all = torch.tensor(0.0).to(device)\n",
    "        ### 获得 Loss\n",
    "        class_loss_s = 0.\n",
    "        class_loss_s1 = self.classifier_loss1(classifier_sigmode_vector,y_onehot_all)\n",
    "        class_loss_s2 = self.classifier_loss2(classifier_softmax_vector,y_onehot_all)\n",
    "        class_loss_all += class_loss_s1 + class_loss_s2\n",
    "        class_loss = torch.div(class_loss_all,h0.shape[0])\n",
    "        \n",
    "        ACC_train = accuracy_score(labels,cluster_result)\n",
    "        F1_train = f1_score(labels, cluster_result, average='macro')\n",
    "        print(\"cluster_output:\",cluster_result)\n",
    "        print(\"labels:\",labels)\n",
    "        print(\"ACC_train:\",accuracy_score(labels,cluster_result))\n",
    "          \n",
    "        if self.training_flag:\n",
    "            loss = class_loss\n",
    "            ##  反向传播\n",
    "            self.optimizer.zero_grad()\n",
    "            loss.backward()\n",
    "            self.optimizer.step()\n",
    "            \n",
    "        return class_loss.detach(), labels, cluster_result, ACC_train, F1_train"
   ]
  },
  {
   "cell_type": "code",
   "execution_count": 10,
   "id": "8fed986d",
   "metadata": {},
   "outputs": [],
   "source": [
    "model = TRAINModel(pre_tokenizer=pre_model.tokenizer, pre_encoder=pre_model.sentbert, pre_classifer=pre_model.classifer, device=device, training_flag=True).to(device)\n",
    "base_lr = 5e-6\n",
    "lr_scale = 100\n",
    "optimizer = torch.optim.Adam([\n",
    "    {'params':model.sentbert.parameters()}, \n",
    "    {'params':model.classifer.parameters(), 'lr':base_lr * lr_scale}], base_lr)\n",
    "\n",
    "model.set_optmizer(optimizer)"
   ]
  },
  {
   "cell_type": "markdown",
   "id": "1b3cf76e",
   "metadata": {},
   "source": [
    "### 训练过程"
   ]
  },
  {
   "cell_type": "code",
   "execution_count": 11,
   "id": "25122d3d",
   "metadata": {},
   "outputs": [],
   "source": [
    "def prepare_task_input(batch, is_contrastive=False):\n",
    "    if is_contrastive:\n",
    "        text, label = batch['text'], batch['label']\n",
    "        all_label_descrip = list(label_yd_yi_dic.keys())\n",
    "        feat = {'input_ids': torch.tensor(0),'attention_mask':torch.tensor(0)}\n",
    "        features1 = model.tokenizer.batch_encode_plus(text, max_length=max_length, return_tensors='pt', padding='longest', \n",
    "                                                         truncation=True)\n",
    "        features2 = model.tokenizer.batch_encode_plus(all_label_descrip, max_length=max_length, return_tensors='pt', padding='longest', \n",
    "                                                         truncation=True)\n",
    "        features_none = model.tokenizer.batch_encode_plus(['none of them'], max_length=max_length, return_tensors='pt', padding='longest', \n",
    "                                                         truncation=True)\n",
    "        \n",
    "        feat1_inputids = features1[\"input_ids\"]\n",
    "        feat1_attmask = features1[\"attention_mask\"]\n",
    "        feat2_inputids = features2[\"input_ids\"]\n",
    "        feat2_attmask = features2[\"attention_mask\"]\n",
    "        max_len = feat1_inputids.shape[1] + feat2_inputids.shape[1] \n",
    "        \n",
    "        # count\n",
    "        non_zero1 = torch.count_nonzero(feat1_attmask, dim=1).reshape(-1, 1)\n",
    "        non_zero2 = torch.count_nonzero(feat2_attmask, dim=1).reshape(-1, 1)\n",
    "        \n",
    "        feats = []\n",
    "        for i in range(non_zero1.shape[0]):\n",
    "            index1 = non_zero1[i][0]\n",
    "            feat_s = {'input_ids': torch.tensor(0),'attention_mask':torch.tensor(0)}\n",
    "            for j in range(non_zero2.shape[0]):\n",
    "                index2 = non_zero2[j][0]\n",
    "                feat_inputid = torch.cat([feat2_inputids[j][:index2],feat1_inputids[i][1:index1]])\n",
    "                feat_attmask = torch.tensor([1]*(index1+index2)+[0]*(max_len-index1-index2)).unsqueeze(0)\n",
    "                feat_inputid = torch.cat([feat_inputid,torch.tensor([1]*(max_len-index1-index2+1))]).unsqueeze(0)\n",
    "                if j == 0:\n",
    "                    feat_inputid_s = feat_inputid\n",
    "                    feat_attmask_s = feat_attmask\n",
    "                elif j != 0:\n",
    "                    feat_inputid_s = torch.cat([feat_inputid_s, feat_inputid],dim=0)\n",
    "                    feat_attmask_s = torch.cat([feat_attmask_s, feat_attmask],dim=0)\n",
    "            feat_s['input_ids'] = feat_inputid_s.to(device)\n",
    "            feat_s['attention_mask'] = feat_attmask_s.to(device)\n",
    "            feats.append(feat_s)  \n",
    "        \n",
    "        return feats, features1, features_none, label\n",
    "    \n",
    "ClassLoss_all = []\n",
    "ACC_result = []\n",
    "F1_result = []\n",
    "def training(train_loader):\n",
    "    pre_acc = 0.\n",
    "    epoch = 0\n",
    "    for i in np.arange(2500):  ## 25 epochs\n",
    "        model.train()\n",
    "        model.training_flag = True        \n",
    "        print('************'+str(i)+'************')        \n",
    "        try:\n",
    "            batch = next(train_loader_iter)\n",
    "        except:\n",
    "            train_loader_iter = iter(train_loader)\n",
    "            batch = next(train_loader_iter)      \n",
    "        \n",
    "        feats, features1, features_none, label = prepare_task_input(batch, is_contrastive=True)    \n",
    "        losses = model.forward(feats, features1, features_none, label, aggregate=True)\n",
    "        \n",
    "        ACC_result.append(losses[3])\n",
    "        F1_result.append(losses[4])\n",
    "        print(\"ACC_train:\",losses[3])\n",
    "        print(\"F1_result:\",losses[4])\n",
    "        \n",
    "        ClassLoss_all.append(losses[0])\n",
    "        \n",
    "        ###### Save Model ###### \n",
    "        best_acc = 0.\n",
    "        best_ckpt = ''\n",
    "        if (i+1) % 100 == 0:  # 76\n",
    "            ckpt = '../EMNLP2023/Result/Model_HWU.pt'\n",
    "            torch.save(model, ckpt)\n",
    "    return None       "
   ]
  },
  {
   "cell_type": "code",
   "execution_count": null,
   "id": "4647c7b4",
   "metadata": {},
   "outputs": [],
   "source": [
    "# the main loop\n",
    "training(train_loader)"
   ]
  },
  {
   "cell_type": "markdown",
   "id": "66835c61",
   "metadata": {},
   "source": [
    "### Loss 下降"
   ]
  },
  {
   "cell_type": "code",
   "execution_count": 17,
   "id": "b20f10be",
   "metadata": {},
   "outputs": [
    {
     "data": {
      "image/png": "[encoded data removed]",
      "text/plain": [
       "<Figure size 432x288 with 1 Axes>"
      ]
     },
     "metadata": {
      "needs_background": "light"
     },
     "output_type": "display_data"
    }
   ],
   "source": [
    "import matplotlib.pyplot as plt\n",
    "x = np.linspace(0, 2500, 2500)\n",
    "y1 = np.array([ClassLoss_all[i].item() for i in range(len(ClassLoss_all))])\n",
    "y2 = np.array([ACC_result[i].item() for i in range(len(ACC_result))])\n",
    "y3 = np.array([ACC_result[i].item() for i in range(len(F1_result))])\n",
    "\n",
    "plt.title('Loss Result Analysis in AORMmodel')\n",
    "# plt.plot(x, y1, color='red', label='Clustering_loss')\n",
    "# plt.plot(x, y2,  color='blue', label='ACC_result')\n",
    "plt.plot(x, y3,  color='green', label='F1_result')\n",
    "\n",
    "plt.xlabel('Epochs')\n",
    "plt.ylabel('Loss')\n",
    "plt.show()"
   ]
  },
  {
   "cell_type": "markdown",
   "id": "6ab7cbad",
   "metadata": {},
   "source": [
    "### 测试过程"
   ]
  },
  {
   "cell_type": "markdown",
   "id": "b58ad8a7",
   "metadata": {},
   "source": [
    "#### 加载模型"
   ]
  },
  {
   "cell_type": "code",
   "execution_count": 12,
   "id": "e8f09982",
   "metadata": {},
   "outputs": [],
   "source": [
    "model = torch.load('../EMNLP2023/Result/Model_HWU.pt')"
   ]
  },
  {
   "cell_type": "markdown",
   "id": "92282391",
   "metadata": {},
   "source": [
    "#### 加载测试数据"
   ]
  },
  {
   "cell_type": "code",
   "execution_count": 22,
   "id": "c2b3c95b",
   "metadata": {},
   "outputs": [
    {
     "name": "stdout",
     "output_type": "stream",
     "text": [
      "['alarm remove', 'alarm remove', 'alarm remove', 'alarm remove', 'alarm remove']\n",
      "['disable the alarm which is set at nine thirty pm', 'delete scheduled alarm', 'turn off my first alarm', 'please cancel all alarms for tomorrow', 'please delete the wednesday evening alarm']\n",
      "All_y_id: 1674\n"
     ]
    }
   ],
   "source": [
    "#### Test_All\n",
    "All_path = '../EMNLP2023/Dataset/Processed/HWU/Test_all.txt'\n",
    "All_x = []\n",
    "All_y = []\n",
    "for line in open(All_path):\n",
    "    All_y.append(line.split('\\t')[1][:-1].replace('_',' '))\n",
    "    All_x.append(line.split('\\t')[0])\n",
    "print(All_y[:5])\n",
    "print(All_x[:5])\n",
    "\n",
    "pre_yd_list = label_yd_yi_dic.keys()\n",
    "pre_yd_yi_dic = label_yd_yi_dic\n",
    "\n",
    "All_y_id = []\n",
    "for i in range(len(All_y)):\n",
    "    if All_y[i] in pre_yd_list:\n",
    "        All_y_id.append(pre_yd_yi_dic[All_y[i]])\n",
    "    else:\n",
    "        All_y_id.append(cluster_nums_str)  \n",
    "print(\"All_y_id:\",len(All_y_id))"
   ]
  },
  {
   "cell_type": "code",
   "execution_count": 23,
   "id": "4b059f62",
   "metadata": {},
   "outputs": [
    {
     "name": "stdout",
     "output_type": "stream",
     "text": [
      "548\n",
      "32\n",
      "base_y_id: 548\n"
     ]
    }
   ],
   "source": [
    "base_x = []\n",
    "base_y = []\n",
    "for i in range(len(All_y)):\n",
    "    if All_y[i] != 'none of them':\n",
    "        base_x.append(All_x[i])\n",
    "        base_y.append(All_y[i])\n",
    "print(len(base_x))\n",
    "print(len(set(base_y)))\n",
    "\n",
    "base_y_id = []\n",
    "for i in range(len(base_y)):\n",
    "    if base_y[i] in label_yd_yi_dic.keys():\n",
    "        base_y_id.append(label_yd_yi_dic[base_y[i]])\n",
    "    else:\n",
    "        base_y_id.append(cluster_nums_str)  \n",
    "print(\"base_y_id:\",len(base_y_id))"
   ]
  },
  {
   "cell_type": "code",
   "execution_count": 24,
   "id": "cf7b9f7c",
   "metadata": {},
   "outputs": [
    {
     "name": "stdout",
     "output_type": "stream",
     "text": [
      "['am i available at five pm on sunday', 'do i have any openings on my schedule for tomorrow', 'do i need to pick up the kids from anything today', 'is the meeting scheduled for tomorrow', 'when the birthday will be']\n",
      "['none of them', 'none of them', 'none of them', 'none of them', 'none of them']\n",
      "Ct_y_id: 600\n"
     ]
    }
   ],
   "source": [
    "#### Ct_x\n",
    "Ct_path = '../EMNLP2023/Dataset/Processed/HWU/Test_ood_reduce.txt'\n",
    "Ct_x = []\n",
    "Ct_y = []\n",
    "for line in open(Ct_path):\n",
    "    Ct_y.append(line.split('\\t')[1][:-1].replace('_',' '))\n",
    "    Ct_x.append(line.split('\\t')[0])\n",
    "print(Ct_x[:5])\n",
    "print(Ct_y[:5])\n",
    "\n",
    "pre_yd_list = label_yd_yi_dic.keys()\n",
    "pre_yd_yi_dic = label_yd_yi_dic\n",
    "\n",
    "Ct_y_id = []\n",
    "for i in range(len(Ct_y)):\n",
    "    if Ct_y[i] in pre_yd_list:\n",
    "        Ct_y_id.append(pre_yd_yi_dic[Ct_y[i]])\n",
    "    else:\n",
    "        Ct_y_id.append(cluster_nums_str)  \n",
    "print(\"Ct_y_id:\",len(Ct_y_id))"
   ]
  },
  {
   "cell_type": "code",
   "execution_count": 25,
   "id": "1bcb18a0",
   "metadata": {},
   "outputs": [
    {
     "data": {
      "text/plain": [
       "114.8"
      ]
     },
     "execution_count": 25,
     "metadata": {},
     "output_type": "execute_result"
    }
   ],
   "source": [
    "(548+600)/10"
   ]
  },
  {
   "cell_type": "code",
   "execution_count": 26,
   "id": "4c188be5",
   "metadata": {},
   "outputs": [],
   "source": [
    "# Ct_x, Ct_y_id 60\n",
    "# base_x, base_y 191\n",
    "X = base_x + Ct_x\n",
    "Y = base_y_id + Ct_y_id\n",
    "B = 114\n",
    "test_dataset = AugmentPairSamples(X[:1140],Y[:1140])\n",
    "test_loader = util_data.DataLoader(test_dataset, batch_size=batch_size, shuffle=False, num_workers=1)"
   ]
  },
  {
   "cell_type": "code",
   "execution_count": 27,
   "id": "d0f20ebb",
   "metadata": {},
   "outputs": [
    {
     "name": "stdout",
     "output_type": "stream",
     "text": [
      "************0************\n"
     ]
    },
    {
     "ename": "ValueError",
     "evalue": "invalid literal for int() with base 10: 'alarm set'",
     "output_type": "error",
     "traceback": [
      "\u001b[0;31m---------------------------------------------------------------------------\u001b[0m",
      "\u001b[0;31mValueError\u001b[0m                                Traceback (most recent call last)",
      "\u001b[0;32m/tmp/ipykernel_803921/3550936817.py\u001b[0m in \u001b[0;36m<module>\u001b[0;34m\u001b[0m\n\u001b[1;32m     13\u001b[0m \u001b[0;34m\u001b[0m\u001b[0m\n\u001b[1;32m     14\u001b[0m     \u001b[0mfeats\u001b[0m\u001b[0;34m,\u001b[0m \u001b[0mfeatures1\u001b[0m\u001b[0;34m,\u001b[0m \u001b[0mfeatures_none\u001b[0m\u001b[0;34m,\u001b[0m \u001b[0mlabel\u001b[0m \u001b[0;34m=\u001b[0m \u001b[0mprepare_task_input\u001b[0m\u001b[0;34m(\u001b[0m\u001b[0mbatch\u001b[0m\u001b[0;34m,\u001b[0m \u001b[0mis_contrastive\u001b[0m\u001b[0;34m=\u001b[0m\u001b[0;32mTrue\u001b[0m\u001b[0;34m)\u001b[0m\u001b[0;34m\u001b[0m\u001b[0;34m\u001b[0m\u001b[0m\n\u001b[0;32m---> 15\u001b[0;31m     \u001b[0m_\u001b[0m\u001b[0;34m,\u001b[0m \u001b[0my_ture\u001b[0m\u001b[0;34m,\u001b[0m \u001b[0my_pred\u001b[0m\u001b[0;34m,\u001b[0m \u001b[0mAcc\u001b[0m\u001b[0;34m,\u001b[0m \u001b[0mF1\u001b[0m \u001b[0;34m=\u001b[0m \u001b[0mmodel\u001b[0m\u001b[0;34m.\u001b[0m\u001b[0mforward\u001b[0m\u001b[0;34m(\u001b[0m\u001b[0mfeats\u001b[0m\u001b[0;34m,\u001b[0m \u001b[0mfeatures1\u001b[0m\u001b[0;34m,\u001b[0m \u001b[0mfeatures_none\u001b[0m\u001b[0;34m,\u001b[0m \u001b[0mlabel\u001b[0m\u001b[0;34m,\u001b[0m \u001b[0maggregate\u001b[0m\u001b[0;34m=\u001b[0m\u001b[0;32mTrue\u001b[0m\u001b[0;34m)\u001b[0m\u001b[0;34m\u001b[0m\u001b[0;34m\u001b[0m\u001b[0m\n\u001b[0m\u001b[1;32m     16\u001b[0m     \u001b[0my_true_list\u001b[0m \u001b[0;34m+=\u001b[0m \u001b[0my_ture\u001b[0m\u001b[0;34m\u001b[0m\u001b[0;34m\u001b[0m\u001b[0m\n\u001b[1;32m     17\u001b[0m     \u001b[0my_pre_list\u001b[0m \u001b[0;34m+=\u001b[0m \u001b[0my_pred\u001b[0m\u001b[0;34m\u001b[0m\u001b[0;34m\u001b[0m\u001b[0m\n",
      "\u001b[0;32m/tmp/ipykernel_803921/4240824454.py\u001b[0m in \u001b[0;36mforward\u001b[0;34m(self, inputs, inputs_text, inputs_none, labels, aggregate)\u001b[0m\n\u001b[1;32m     40\u001b[0m \u001b[0;34m\u001b[0m\u001b[0m\n\u001b[1;32m     41\u001b[0m             \u001b[0my_vector\u001b[0m \u001b[0;34m=\u001b[0m \u001b[0mtorch\u001b[0m\u001b[0;34m.\u001b[0m\u001b[0mtensor\u001b[0m\u001b[0;34m(\u001b[0m\u001b[0;34m[\u001b[0m\u001b[0;36m0.\u001b[0m\u001b[0;34m]\u001b[0m\u001b[0;34m*\u001b[0m\u001b[0;34m(\u001b[0m\u001b[0mh0\u001b[0m\u001b[0;34m.\u001b[0m\u001b[0mshape\u001b[0m\u001b[0;34m[\u001b[0m\u001b[0;36m0\u001b[0m\u001b[0;34m]\u001b[0m\u001b[0;34m+\u001b[0m\u001b[0;36m1\u001b[0m\u001b[0;34m)\u001b[0m\u001b[0;34m)\u001b[0m\u001b[0;34m.\u001b[0m\u001b[0mto\u001b[0m\u001b[0;34m(\u001b[0m\u001b[0mself\u001b[0m\u001b[0;34m.\u001b[0m\u001b[0mdevice\u001b[0m\u001b[0;34m)\u001b[0m \u001b[0;31m#[20]\u001b[0m\u001b[0;34m\u001b[0m\u001b[0;34m\u001b[0m\u001b[0m\n\u001b[0;32m---> 42\u001b[0;31m             \u001b[0my_idx\u001b[0m \u001b[0;34m=\u001b[0m \u001b[0mint\u001b[0m\u001b[0;34m(\u001b[0m\u001b[0mlabels\u001b[0m\u001b[0;34m[\u001b[0m\u001b[0ms_idx\u001b[0m\u001b[0;34m]\u001b[0m\u001b[0;34m)\u001b[0m\u001b[0;34m\u001b[0m\u001b[0;34m\u001b[0m\u001b[0m\n\u001b[0m\u001b[1;32m     43\u001b[0m             \u001b[0my_onehot\u001b[0m \u001b[0;34m=\u001b[0m \u001b[0my_vector\u001b[0m\u001b[0;34m.\u001b[0m\u001b[0mclone\u001b[0m\u001b[0;34m(\u001b[0m\u001b[0;34m)\u001b[0m\u001b[0;34m\u001b[0m\u001b[0;34m\u001b[0m\u001b[0m\n\u001b[1;32m     44\u001b[0m             \u001b[0my_onehot\u001b[0m\u001b[0;34m[\u001b[0m\u001b[0my_idx\u001b[0m\u001b[0;34m]\u001b[0m \u001b[0;34m=\u001b[0m \u001b[0;36m1.\u001b[0m\u001b[0;34m\u001b[0m\u001b[0;34m\u001b[0m\u001b[0m\n",
      "\u001b[0;31mValueError\u001b[0m: invalid literal for int() with base 10: 'alarm set'"
     ]
    }
   ],
   "source": [
    "y_true_list = []\n",
    "y_pre_list = []\n",
    "ACC_list = []\n",
    "F1_list = []\n",
    "for i in np.arange(B):  ## 25 epochs\n",
    "    model.training_flag = False        \n",
    "    print('************'+str(i)+'************')        \n",
    "    try:\n",
    "        batch = next(test_loader_iter)\n",
    "    except:\n",
    "        test_loader_iter = iter(test_loader)\n",
    "        batch = next(test_loader_iter)      \n",
    "\n",
    "    feats, features1, features_none, label = prepare_task_input(batch, is_contrastive=True)    \n",
    "    _, y_ture, y_pred, Acc, F1 = model.forward(feats, features1, features_none, label, aggregate=True)\n",
    "    y_true_list += y_ture\n",
    "    y_pre_list += y_pred\n",
    "    ACC_list += Acc\n",
    "    F1_list += F1"
   ]
  },
  {
   "cell_type": "code",
   "execution_count": null,
   "id": "00faa9ec",
   "metadata": {},
   "outputs": [],
   "source": [
    "##ALL\n",
    "print(\"ACC:\",accuracy_score(y_true_list,y_pre_list))\n",
    "print(\"F1:\",f1_score(y_true_list,y_pre_list, average='macro'))"
   ]
  },
  {
   "cell_type": "code",
   "execution_count": null,
   "id": "d1c605bb",
   "metadata": {},
   "outputs": [],
   "source": [
    "##OOD\n",
    "y_pre_bi = []\n",
    "y_true_bi = []\n",
    "for i in range(len(y_pre_list)):\n",
    "    if y_pre_list[i] == cluster_nums_str:\n",
    "        y_pre_bi.append(1)\n",
    "    else:\n",
    "        y_pre_bi.append(0)\n",
    "##########\n",
    "for i in range(len(y_true_list)):\n",
    "    if y_true_list[i] == cluster_nums_str:\n",
    "        y_true_bi.append(1)\n",
    "    else:\n",
    "        y_true_bi.append(0)\n",
    "print(\"ACC:\",accuracy_score(y_true_bi,y_pre_bi))\n",
    "print(\"F1:\",f1_score(y_true_bi,y_pre_bi))"
   ]
  },
  {
   "cell_type": "code",
   "execution_count": 35,
   "id": "f728f245",
   "metadata": {},
   "outputs": [],
   "source": [
    "Acc_all = [86.02, 86.61]\n",
    "F1_all = [86.67, 86.64]\n",
    "Acc_test = [73.33,72.67,73.17]\n",
    "F1_test = [84.62,84.17,84.50]"
   ]
  },
  {
   "cell_type": "code",
   "execution_count": 36,
   "id": "7e49c141",
   "metadata": {},
   "outputs": [
    {
     "name": "stdout",
     "output_type": "stream",
     "text": [
      "********* 1 *********\n",
      "86.315\n",
      "0.41719300090006545\n",
      "********* 2 *********\n",
      "86.655\n",
      "0.02121320343559723\n",
      "********* 3 *********\n",
      "73.05666666666667\n",
      "0.3442867022313415\n",
      "********* 4 *********\n",
      "84.43\n",
      "0.23302360395462177\n"
     ]
    }
   ],
   "source": [
    "import statistics\n",
    "import numpy as np\n",
    "\n",
    "print(\"********* 1 *********\")\n",
    "Acc_all_std = statistics.stdev(Acc_all)\n",
    "Acc_all_mean = np.mean(Acc_all)\n",
    "print(Acc_all_mean)\n",
    "print(Acc_all_std)\n",
    "\n",
    "print(\"********* 2 *********\")\n",
    "F1_all_std = statistics.stdev(F1_all)\n",
    "F1_all_mean = np.mean(F1_all)\n",
    "print(F1_all_mean)\n",
    "print(F1_all_std)\n",
    "\n",
    "print(\"********* 3 *********\")\n",
    "Acc_test_std = statistics.stdev(Acc_test)\n",
    "Acc_test_mean = np.mean(Acc_test)\n",
    "print(Acc_test_mean)\n",
    "print(Acc_test_std)\n",
    "\n",
    "print(\"********* 4 *********\")\n",
    "F1_test_std = statistics.stdev(F1_test)\n",
    "F1_test_mean = np.mean(F1_test)\n",
    "print(F1_test_mean)\n",
    "print(F1_test_std)"
   ]
  },
  {
   "cell_type": "code",
   "execution_count": null,
   "id": "0daa9c42",
   "metadata": {},
   "outputs": [],
   "source": []
  },
  {
   "cell_type": "code",
   "execution_count": null,
   "id": "02db1a70",
   "metadata": {},
   "outputs": [],
   "source": []
  }
 ],
 "metadata": {
  "kernelspec": {
   "display_name": "DS",
   "language": "python",
   "name": "ds"
  },
  "language_info": {
   "codemirror_mode": {
    "name": "ipython",
    "version": 3
   },
   "file_extension": ".py",
   "mimetype": "text/x-python",
   "name": "python",
   "nbconvert_exporter": "python",
   "pygments_lexer": "ipython3",
   "version": "3.7.16"
  }
 },
 "nbformat": 4,
 "nbformat_minor": 5
}
